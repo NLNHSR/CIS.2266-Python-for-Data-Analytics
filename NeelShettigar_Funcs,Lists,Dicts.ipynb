{
 "cells": [
  {
   "cell_type": "markdown",
   "metadata": {},
   "source": [
    "# Functions\n",
    "### Neel Shettigar\n",
    "### February 15 2021"
   ]
  },
  {
   "cell_type": "markdown",
   "metadata": {},
   "source": [
    "This program prompts the user for hours and rate per hour using input to compute gross pay with a function"
   ]
  },
  {
   "cell_type": "code",
   "execution_count": 42,
   "metadata": {},
   "outputs": [
    {
     "name": "stdout",
     "output_type": "stream",
     "text": [
      "Enter total hours: 45\n",
      "Enter rate per hour: 10.50\n",
      "Gross pay: 498.75\n"
     ]
    }
   ],
   "source": [
    "# function for gross pay\n",
    "def computepay(hours, rate):\n",
    "    # calculate gross pay\n",
    "    if hours <= 40:\n",
    "        grossPay = hours * rate\n",
    "    else: \n",
    "        grossPay = (40 * rate) + ((hours - 40) * (rate * 1.5))\n",
    "    \n",
    "    return grossPay\n",
    "\n",
    "# get required values from user as input\n",
    "hours = float(input(\"Enter total hours: \"))\n",
    "rate = float(input(\"Enter rate per hour: \"))\n",
    "\n",
    "# print out the gross pay to user\n",
    "print(\"Gross pay: \" + str(computepay(hours, rate))) # call the function\n"
   ]
  },
  {
   "cell_type": "markdown",
   "metadata": {},
   "source": [
    "# Lists\n",
    "### Neel Shettigar\n",
    "### February 15 2021"
   ]
  },
  {
   "cell_type": "markdown",
   "metadata": {},
   "source": [
    "This program reads the text file (romeo.txt) line by line and puts all the words into a list to print out alphabetically sorted"
   ]
  },
  {
   "cell_type": "code",
   "execution_count": 40,
   "metadata": {},
   "outputs": [
    {
     "name": "stdout",
     "output_type": "stream",
     "text": [
      "Arise\n",
      "But\n",
      "It\n",
      "Juliet\n",
      "Who\n",
      "already\n",
      "and\n",
      "and\n",
      "and\n",
      "breaks\n",
      "east\n",
      "envious\n",
      "fair\n",
      "grief\n",
      "is\n",
      "is\n",
      "is\n",
      "kill\n",
      "light\n",
      "moon\n",
      "pale\n",
      "sick\n",
      "soft\n",
      "sun\n",
      "sun\n",
      "the\n",
      "the\n",
      "the\n",
      "through\n",
      "what\n",
      "window\n",
      "with\n",
      "yonder\n"
     ]
    }
   ],
   "source": [
    "# create a file handle\n",
    "fhandle = open(\"romeo.txt\")\n",
    "words = [] # initialize the list \n",
    "\n",
    "# read the text file line by line and put all the individual words into the list\n",
    "for line in fhandle:\n",
    "    words = words + line.strip().split(' ')\n",
    " \n",
    "# print out list in alphabetical order\n",
    "words.sort()\n",
    "for x in range(len(words)): \n",
    "    print (words[x]) \n"
   ]
  },
  {
   "cell_type": "markdown",
   "metadata": {},
   "source": [
    "# Dictionaries\n",
    "### Neel Shettigar\n",
    "### February 15 2021"
   ]
  },
  {
   "cell_type": "markdown",
   "metadata": {},
   "source": [
    "This program reads the text file (mbox-short.txt) and finds out which sender had the greatest number of messages"
   ]
  },
  {
   "cell_type": "code",
   "execution_count": 43,
   "metadata": {},
   "outputs": [
    {
     "name": "stdout",
     "output_type": "stream",
     "text": [
      "cwen@iupui.edu 45\n"
     ]
    }
   ],
   "source": [
    "# create a file handle\n",
    "fhandle = open('mbox-short.txt')\n",
    "totals = dict() # initialize the dictionary \n",
    "\n",
    "# read the text file line by line and put all the senders and the number of times they appear into the dictionary\n",
    "for line in fhandle:\n",
    "    if line.startswith('From'):\n",
    "        words = line.split()\n",
    "        for word in words :\n",
    "            totals[words[1]]= totals.get(words[1],0)+1\n",
    "\n",
    "# finds the sender with the greatest number of messages out of the dictionary\n",
    "greatestmessages = 0\n",
    "for address,messages in totals.items():\n",
    "   if greatestmessages == 0 or messages > greatestmessages:\n",
    "       greatestaddress = address\n",
    "       greatestmessages = messages\n",
    "\n",
    "# print the greatest sender along with the number of messages\n",
    "print(greatestaddress,greatestmessages)"
   ]
  }
 ],
 "metadata": {
  "kernelspec": {
   "display_name": "Python 3",
   "language": "python",
   "name": "python3"
  },
  "language_info": {
   "codemirror_mode": {
    "name": "ipython",
    "version": 3
   },
   "file_extension": ".py",
   "mimetype": "text/x-python",
   "name": "python",
   "nbconvert_exporter": "python",
   "pygments_lexer": "ipython3",
   "version": "3.7.4"
  }
 },
 "nbformat": 4,
 "nbformat_minor": 2
}
