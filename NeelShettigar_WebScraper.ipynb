{
 "cells": [
  {
   "cell_type": "markdown",
   "metadata": {},
   "source": [
    "# Web Scraper\n",
    "### Neel Shettigar\n",
    "### March 27 2021"
   ]
  },
  {
   "cell_type": "markdown",
   "metadata": {},
   "source": [
    "This program scrapes all URL links from the UC Iviring Machine Learning Repository Auto MPG page"
   ]
  },
  {
   "cell_type": "code",
   "execution_count": 36,
   "metadata": {},
   "outputs": [
    {
     "name": "stdout",
     "output_type": "stream",
     "text": [
      "../index.html\n",
      "http://cml.ics.uci.edu\n",
      "../about.html\n",
      "../citation_policy.html\n",
      "../donation_policy.html\n",
      "../contact.html\n",
      "https://www.google.com/search\n",
      "../datasets.php\n",
      "../machine-learning-databases/auto-mpg/\n",
      "../machine-learning-databases/auto-mpg/auto-mpg.names\n",
      "http://rexa.info/paper/9eac95c36cbec1ef4954d3491df1ea0a1d09c6f0\n",
      "http://rexa.info/paper/8e674b6eff0f726ba6fff46ef6eaff968dc89f39\n",
      "../support/auto+mpg#8e674b6eff0f726ba6fff46ef6eaff968dc89f39\n",
      "http://rexa.info/paper/3caf773de7b1ad6c9236cbd03763058bc8846e9d\n",
      "../support/auto+mpg#3caf773de7b1ad6c9236cbd03763058bc8846e9d\n",
      "http://rexa.info/paper/5e9e56b4525a16e039d75d04d32477b118e36b0d\n",
      "../support/auto+mpg#5e9e56b4525a16e039d75d04d32477b118e36b0d\n",
      "http://rexa.info/paper/39037b34a030869c4d11077a2cb171ac3ba3ff0d\n",
      "../support/auto+mpg#39037b34a030869c4d11077a2cb171ac3ba3ff0d\n",
      "http://rexa.info/paper/ccde1df96c7ca5add43e1578b912d95bb86da659\n",
      "../support/auto+mpg#ccde1df96c7ca5add43e1578b912d95bb86da659\n",
      "http://rexa.info/paper/6d06e4392537787017a43aa34b5412cfa28e31e8\n",
      "../support/auto+mpg#6d06e4392537787017a43aa34b5412cfa28e31e8\n",
      "http://rexa.info/paper/0cedee7ef9325127fb946dcdddf8795644e28335\n",
      "../support/auto+mpg#0cedee7ef9325127fb946dcdddf8795644e28335\n",
      "http://rexa.info/paper/ae50055cb7507aa6cad70a2adf7d0f55a25268c7\n",
      "../support/auto+mpg#ae50055cb7507aa6cad70a2adf7d0f55a25268c7\n",
      "http://rexa.info/paper/5d88347a087b01681bec3121a13b7b29465cdc71\n",
      "../support/auto+mpg#5d88347a087b01681bec3121a13b7b29465cdc71\n",
      "http://rexa.info/paper/d688186b7174c0a53391d92f70d64a41209d3358\n",
      "../support/auto+mpg#d688186b7174c0a53391d92f70d64a41209d3358\n",
      "http://rexa.info/paper/e7628956b46a78e64774af25d99c0afd0cf90001\n",
      "../support/auto+mpg#e7628956b46a78e64774af25d99c0afd0cf90001\n",
      "http://rexa.info/paper/48d6beec2a36a87d9d88b6de85dd85a75e5ed24d\n",
      "../support/auto+mpg#48d6beec2a36a87d9d88b6de85dd85a75e5ed24d\n",
      "../citation_policy.html\n",
      "http://rexa.info\n",
      "../about.html\n",
      "../citation_policy.html\n",
      "../donation_policy.html\n",
      "../contact.html\n",
      "http://cml.ics.uci.edu\n"
     ]
    }
   ],
   "source": [
    "# I got the code for ssl and the regular expression from the example code in chapter 12 of PY4E\n",
    "# https://www.py4e.com/html3/12-network\n",
    "\n",
    "# import all the libraries\n",
    "import urllib\n",
    "from bs4 import BeautifulSoup\n",
    "import ssl\n",
    "import re\n",
    "\n",
    "# Ignore SSL certificate errors (this is only required for some sites)\n",
    "ctx = ssl.create_default_context()\n",
    "ctx.check_hostname = False\n",
    "ctx.verify_mode = ssl.CERT_NONE\n",
    "\n",
    "url ='http://archive.ics.uci.edu/ml/datasets/auto+mpg'\n",
    "html = urllib.request.urlopen(url, context = ctx).read()\n",
    "soup = BeautifulSoup(html, 'html.parser')\n",
    "\n",
    "# In HTML the <a> tag defines a hyperlink, and it has an attribute of 'href', which indicates the link's destination\n",
    "tags = soup('a') \n",
    "for tag in tags:\n",
    "    print(tag.get('href', None))\n",
    "    "
   ]
  },
  {
   "cell_type": "code",
   "execution_count": 35,
   "metadata": {},
   "outputs": [
    {
     "name": "stdout",
     "output_type": "stream",
     "text": [
      "http://cml.ics.uci.edu\n",
      "http://rexa.info/paper/9eac95c36cbec1ef4954d3491df1ea0a1d09c6f0\n",
      "http://rexa.info/paper/3caf773de7b1ad6c9236cbd03763058bc8846e9d\n",
      "http://rexa.info/paper/8e674b6eff0f726ba6fff46ef6eaff968dc89f39\n",
      "http://rexa.info/paper/5e9e56b4525a16e039d75d04d32477b118e36b0d\n",
      "http://rexa.info/paper/39037b34a030869c4d11077a2cb171ac3ba3ff0d\n",
      "http://rexa.info/paper/ccde1df96c7ca5add43e1578b912d95bb86da659\n",
      "http://rexa.info/paper/6d06e4392537787017a43aa34b5412cfa28e31e8\n",
      "http://rexa.info/paper/0cedee7ef9325127fb946dcdddf8795644e28335\n",
      "http://rexa.info/paper/ae50055cb7507aa6cad70a2adf7d0f55a25268c7\n",
      "http://rexa.info/paper/5d88347a087b01681bec3121a13b7b29465cdc71\n",
      "http://rexa.info/paper/d688186b7174c0a53391d92f70d64a41209d3358\n",
      "http://rexa.info/paper/e7628956b46a78e64774af25d99c0afd0cf90001\n",
      "http://rexa.info/paper/48d6beec2a36a87d9d88b6de85dd85a75e5ed24d\n",
      "http://rexa.info/paper/3caf773de7b1ad6c9236cbd03763058bc8846e9d\n",
      "http://rexa.info/paper/8e674b6eff0f726ba6fff46ef6eaff968dc89f39\n",
      "http://rexa.info/paper/5e9e56b4525a16e039d75d04d32477b118e36b0d\n",
      "http://rexa.info/paper/39037b34a030869c4d11077a2cb171ac3ba3ff0d\n",
      "http://rexa.info/paper/ccde1df96c7ca5add43e1578b912d95bb86da659\n",
      "http://rexa.info/paper/6d06e4392537787017a43aa34b5412cfa28e31e8\n",
      "http://rexa.info/paper/0cedee7ef9325127fb946dcdddf8795644e28335\n",
      "http://rexa.info/paper/ae50055cb7507aa6cad70a2adf7d0f55a25268c7\n",
      "http://rexa.info/paper/5d88347a087b01681bec3121a13b7b29465cdc71\n",
      "http://rexa.info/paper/d688186b7174c0a53391d92f70d64a41209d3358\n",
      "http://rexa.info/paper/e7628956b46a78e64774af25d99c0afd0cf90001\n",
      "http://rexa.info/paper/48d6beec2a36a87d9d88b6de85dd85a75e5ed24d\n",
      "http://rexa.info\n",
      "http://rexa.info\n",
      "http://cml.ics.uci.edu\n"
     ]
    }
   ],
   "source": [
    "# This is a regular expression to filter out only the links which contain 'http:' or 'https:'\n",
    "links = re.findall(b'href=\"(http[s]?://.*?)\"', html) \n",
    "for link in links:\n",
    "    print(link.decode())\n",
    "    "
   ]
  },
  {
   "cell_type": "code",
   "execution_count": null,
   "metadata": {},
   "outputs": [],
   "source": []
  }
 ],
 "metadata": {
  "kernelspec": {
   "display_name": "Python 3",
   "language": "python",
   "name": "python3"
  },
  "language_info": {
   "codemirror_mode": {
    "name": "ipython",
    "version": 3
   },
   "file_extension": ".py",
   "mimetype": "text/x-python",
   "name": "python",
   "nbconvert_exporter": "python",
   "pygments_lexer": "ipython3",
   "version": "3.7.4"
  }
 },
 "nbformat": 4,
 "nbformat_minor": 2
}
