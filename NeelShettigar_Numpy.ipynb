import numpy as np

np.random.seed(21)
random_integers = np.random.randint(1,high=500000, size=(20, 5))
random_integers

print(random_integers)

print("1. What is the average value of the second column?")
print((np.mean(random_integers, axis=0))[1])

print("2. What is the average value of the first 5 rows of the third and fourth columns?")
third = 0
fourth = 0
for i in range(0,5):
    third = third + random_integers[i][2]
    fourth = fourth + random_integers[i][3]
print(third / 5,fourth / 5)

print("3. Create a 10 x 10 slice from of random_integers array, named arrayTenByTen, that started at 0:0 from random_integers")
arrayTenByTen = random_integers[0:10,0:10]
print(arrayTenByTen)

print("4. Crete a new array from the arrayTenByTen that is one rank and called arrayTenFlat")
arrayTenFlat = random_integers.flatten()
print(arrayTenFlat)

print("5. What is the sum of arrayTenFlat?")
print(np.sum(arrayTenFlat))

print("6. Iterate through arrayTenFlat")
for x in arrayTenFlat:
  print(x)

print("7. What is the value of the element (9,2) in random_integers array?")
print(random_integers[8][1])

print("8. What is the data type of arrayTenFlat?")
print(arrayTenFlat.dtype)

print("9. In arrayTenFlat replace the value in index 5 with 42")
arrayTenFlat[4] = arrayTenFlat[41]
print(arrayTenFlat)

print("10. Save the array random_integers to a file.  List the directory showing the saved array.")
np.savetxt("RandomIntegers", random_integers)
print("RandomIntegers.txt")