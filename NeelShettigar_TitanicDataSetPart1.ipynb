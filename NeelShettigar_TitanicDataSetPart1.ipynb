{
 "cells": [
  {
   "cell_type": "markdown",
   "metadata": {},
   "source": [
    "# Titanic Data Set Part 1\n",
    "### Neel Shettigar\n",
    "### 04/18/2021"
   ]
  },
  {
   "cell_type": "markdown",
   "metadata": {},
   "source": [
    "This program answers questions related to the Titanic Data Set."
   ]
  },
  {
   "cell_type": "code",
   "execution_count": 7,
   "metadata": {},
   "outputs": [
    {
     "name": "stdout",
     "output_type": "stream",
     "text": [
      "Probability: 41.51%\n",
      "Average Ship Fare Cost: £32.31\n",
      "Average Third Class Fare Cost: £13.71\n",
      "Average Second Class Fare Cost: £20.66\n",
      "Average First Class Fare Cost: £84.15\n"
     ]
    }
   ],
   "source": [
    "# Import libraries \n",
    "import pandas as pd\n",
    "\n",
    "# Read data into DataFrame\n",
    "df = pd.read_csv('titanic.csv')\n",
    "\n",
    "# Create a subset of children 10 and under in third class\n",
    "subset = df.loc[(df['Pclass'] == 3) & (df['Age'] <= 10)]\n",
    "# Count of the children who survived and died\n",
    "survived = len(subset[subset.Survived == 1]) \n",
    "died = len(subset[subset.Survived == 0])\n",
    "\n",
    "# Average fare of everyone on the ship\n",
    "cost = df['Fare'].mean()\n",
    "\n",
    "# Expectation/Average fare conditioned on passenger-class(lowest paid = 3rd class, Middle paid = 2nd Class, Highest paid = 1st class)\n",
    "lowest = (df.loc[df['Pclass'] == 3])['Fare'].mean()\n",
    "middle = (df.loc[df['Pclass'] == 2])['Fare'].mean()\n",
    "highest = (df.loc[df['Pclass'] == 1])['Fare'].mean()\n",
    "\n",
    "# Display calculated values\n",
    "print(\"Probability: \" + str(round((((survived / (survived + died)) * 100)),2)) + \"%\")\n",
    "print(\"Average Ship Fare Cost: £\" + str(round(cost,2)))\n",
    "print(\"Average Third Class Fare Cost: £\" + str(round(lowest,2)))\n",
    "print(\"Average Second Class Fare Cost: £\" + str(round(middle,2)))\n",
    "print(\"Average First Class Fare Cost: £\" + str(round(highest,2)))\n"
   ]
  },
  {
   "cell_type": "markdown",
   "metadata": {},
   "source": [
    "## 1. What is the probability that a child who is in third class and is 10 years old or younger survives?\n",
    "#### The probability that a child who is in third class and is 10 years old or younger is around 41.51%. This was calculated by dividing the total number of survivors by the total number of casualties and then multiplying by 100. \n",
    "\n",
    "## 2. How much did people pay to be on the ship (average)? \n",
    "#### The people paid an average(mean) of around £32.31 to be on the ship. This was calculated by taking the average of all the rows in the 'Fare' column.\n",
    "\n",
    "## 3. Calculate the expectation of fare conditioned on passenger-class (lowest, middle and highest paid).\n",
    "#### The expected fare(mean) of 3rd class(lowest paid) was around £13.71, the expected fare(mean) of 2nd class(middle paid) was around £20.66 and the expected fare(mean) of 1st class(highest paid) was around £84.15. This was calculated by conditioning the rows by passenger-class, then finding the average of their respective 'Fare' columns."
   ]
  },
  {
   "cell_type": "code",
   "execution_count": null,
   "metadata": {},
   "outputs": [],
   "source": []
  }
 ],
 "metadata": {
  "kernelspec": {
   "display_name": "Python 3",
   "language": "python",
   "name": "python3"
  },
  "language_info": {
   "codemirror_mode": {
    "name": "ipython",
    "version": 3
   },
   "file_extension": ".py",
   "mimetype": "text/x-python",
   "name": "python",
   "nbconvert_exporter": "python",
   "pygments_lexer": "ipython3",
   "version": "3.7.4"
  }
 },
 "nbformat": 4,
 "nbformat_minor": 2
}
