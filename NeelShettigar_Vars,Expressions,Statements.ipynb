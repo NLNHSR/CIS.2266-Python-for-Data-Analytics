{
 "cells": [
  {
   "cell_type": "markdown",
   "metadata": {},
   "source": [
    "# Gross Pay Program\n",
    "### Neel Shettigar\n",
    "### January 24 2021"
   ]
  },
  {
   "cell_type": "markdown",
   "metadata": {},
   "source": [
    "This program prompts the user for hours and rate per hour using input to compute gross pay"
   ]
  },
  {
   "cell_type": "code",
   "execution_count": 1,
   "metadata": {
    "scrolled": true
   },
   "outputs": [
    {
     "name": "stdout",
     "output_type": "stream",
     "text": [
      "Enter total hours: 35\n",
      "Enter rate per hour: 2.75\n",
      "Gross pay: 96.25\n"
     ]
    }
   ],
   "source": [
    "# get required values from user as input\n",
    "hours = float(input(\"Enter total hours: \"))\n",
    "rate = float(input(\"Enter rate per hour: \"))\n",
    "\n",
    "# calculate gross pay\n",
    "grossPay = hours * rate\n",
    "\n",
    "# print out the gross pay to user\n",
    "print(\"Gross pay: \" + str(grossPay))"
   ]
  }
 ],
 "metadata": {
  "kernelspec": {
   "display_name": "Python 3",
   "language": "python",
   "name": "python3"
  },
  "language_info": {
   "codemirror_mode": {
    "name": "ipython",
    "version": 3
   },
   "file_extension": ".py",
   "mimetype": "text/x-python",
   "name": "python",
   "nbconvert_exporter": "python",
   "pygments_lexer": "ipython3",
   "version": "3.7.4"
  }
 },
 "nbformat": 4,
 "nbformat_minor": 2
}
