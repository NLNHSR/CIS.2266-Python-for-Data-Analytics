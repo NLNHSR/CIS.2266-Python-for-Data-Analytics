{
 "cells": [
  {
   "cell_type": "markdown",
   "metadata": {},
   "source": [
    "# Time Tracker\n",
    "## CIS 2266 Midterm Project\n",
    "#### Neel Shettigar\n",
    "#### 03/07/2021"
   ]
  },
  {
   "cell_type": "markdown",
   "metadata": {},
   "source": [
    "This program lets you track how you spend your time, (Productive, Unproductive, or Neutral). The program will show you (outputs) how you are currently spending your time along with the percentages of your total time, and it will ask you (input) if you want to switch it, or end the program. Enter either the full word (Productive, Unproductive, or Neutral), or just the capital first letter, and make sure to leave the program running when you want to track time (don't close out of the tab).\n",
    "NOTE: You need to restart the Kernel everytime you end the program and want to rerun it\n",
    "\n",
    "I got inspiration to make this program from a product called TimeFlip2. It is a simple time tracker that I've been meaning to buy, however held off due to its high price. I thought writing a program to simulate its purpouse will allow me to see if I would actually use it everyday, if it would actually help keep me on track, and possibly eliminate the need to buy it- if I further build upon this program. "
   ]
  },
  {
   "cell_type": "code",
   "execution_count": 1,
   "metadata": {},
   "outputs": [
    {
     "name": "stdout",
     "output_type": "stream",
     "text": [
      "Productive- 27%  Unproductive- 35%  Neutral- 38%\n",
      "You are currently being: Productive\n",
      "\n",
      "Change to (P)roductive, (U)nproductive, (N)eutral, (E)nd E\n"
     ]
    }
   ],
   "source": [
    "# import necessary libraries\n",
    "from IPython.display import clear_output\n",
    "import time\n",
    "\n",
    "# initialize global variables \n",
    "productiveTime = 0\n",
    "unproductiveTime = 0\n",
    "neutralTime = 0\n",
    "tempTime = 0;\n",
    "currentDisplay = \"Neutral\" # default use of time when program starts is \"Neutral\"\n",
    "\n",
    "# returns Unix time in seconds \n",
    "def getTime():\n",
    "    return int(round(time.time()))\n",
    "\n",
    "# finds time difference between switching and assigns it to respective catagory\n",
    "def assignTime(time):\n",
    "    global currentDisplay, productiveTime, unproductiveTime, neutralTime # allows access to global variables and doesn't create new local ones\n",
    "    \n",
    "    timeDifference = getTime() - time\n",
    "    \n",
    "    if(currentDisplay == \"Productive\"):\n",
    "        productiveTime += timeDifference\n",
    "        \n",
    "    elif(currentDisplay == \"Unproductive\"):\n",
    "        unproductiveTime += timeDifference\n",
    "        \n",
    "    elif(currentDisplay == \"Neutral\"):\n",
    "        neutralTime += timeDifference\n",
    "\n",
    "# updates the choice indicator text based on user input\n",
    "def changeDisplay(Choice):\n",
    "    global currentDisplay  # allows access to the global variable and doesn't create a new local one\n",
    "   \n",
    "    # only checks if first letter of input matches one of the 3 choices\n",
    "    if(Choice.startswith(\"P\")):\n",
    "        currentDisplay = \"Productive\"\n",
    "        \n",
    "    elif(Choice.startswith(\"U\")):\n",
    "        currentDisplay = \"Unproductive\"\n",
    "        \n",
    "    elif(Choice.startswith(\"N\")):\n",
    "        currentDisplay = \"Neutral\"\n",
    "\n",
    "# calculates percentages of how much you spent in each catagory out of the total time the program is run\n",
    "def outputPercentages(P, U, N):\n",
    "    total = P + U + N\n",
    "    \n",
    "    if(total == 0): # needed for the beginning of the program\n",
    "        return \"Productive- 0%  Unproductive- 0%  Neutral- 0%\"\n",
    "    \n",
    "    pPart = 100 * float(P)/float(total)\n",
    "    uPart = 100 * float(U)/float(total)\n",
    "    nPart = 100 * float(N)/float(total)\n",
    "    \n",
    "    return \"Productive- \" + str(round(pPart)) + \"%  Unproductive- \" + str(round(uPart)) + \"%  Neutral- \" + str(round(nPart)) + \"%\"\n",
    "\n",
    "# continous while loop to track time\n",
    "while(1):\n",
    "    clear_output(wait=True) # clears output cell everytime so its not cluttered and its easier to see the current output\n",
    "    tempTime = int(round(getTime()));\n",
    "    \n",
    "    print(outputPercentages(productiveTime, unproductiveTime, neutralTime))\n",
    "    print(\"You are currently being: \" + currentDisplay + \"\\n\")\n",
    "    \n",
    "    choice = input(\"Change to (P)roductive, (U)nproductive, (N)eutral, (E)nd \")\n",
    "    \n",
    "    if(choice.startswith(\"E\")):\n",
    "        break # exits the loop and ends the program\n",
    "        \n",
    "    else:\n",
    "        assignTime(tempTime)\n",
    "        changeDisplay(choice)\n",
    "        "
   ]
  },
  {
   "cell_type": "code",
   "execution_count": null,
   "metadata": {},
   "outputs": [],
   "source": []
  }
 ],
 "metadata": {
  "kernelspec": {
   "display_name": "Python 3",
   "language": "python",
   "name": "python3"
  },
  "language_info": {
   "codemirror_mode": {
    "name": "ipython",
    "version": 3
   },
   "file_extension": ".py",
   "mimetype": "text/x-python",
   "name": "python",
   "nbconvert_exporter": "python",
   "pygments_lexer": "ipython3",
   "version": "3.7.4"
  }
 },
 "nbformat": 4,
 "nbformat_minor": 2
}
