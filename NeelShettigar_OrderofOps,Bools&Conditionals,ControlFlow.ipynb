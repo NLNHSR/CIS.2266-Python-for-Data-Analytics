{
 "cells": [
  {
   "cell_type": "markdown",
   "metadata": {},
   "source": [
    "# Test Grades Program\n",
    "### Neel Shettigar\n",
    "### January 31 2021"
   ]
  },
  {
   "cell_type": "markdown",
   "metadata": {},
   "source": [
    "This program converts a score betwee 0.0 and 1.0 to a letter grade (A-F)"
   ]
  },
  {
   "cell_type": "code",
   "execution_count": 11,
   "metadata": {},
   "outputs": [
    {
     "name": "stdout",
     "output_type": "stream",
     "text": [
      "Enter test score: 0.85\n",
      "Grade: B\n"
     ]
    }
   ],
   "source": [
    "# get required values from user as input\n",
    "score = float(input(\"Enter test score: \"))\n",
    "\n",
    "# convert to letter grade and print\n",
    "if score < 0.0 or score > 1.0:\n",
    "    print(\"Error: Score is out of range\")\n",
    "elif score >= .9:\n",
    "    print(\"Grade: A\")\n",
    "elif score >= .8:\n",
    "    print(\"Grade: B\")\n",
    "elif score >= .7:\n",
    "    print(\"Grade: C\")\n",
    "elif score >= .6:\n",
    "    print(\"Grade: D\")\n",
    "else:\n",
    "    print(\"Grade: F\")"
   ]
  },
  {
   "cell_type": "markdown",
   "metadata": {},
   "source": [
    "# Overtime Pay Program\n",
    "### Neel Shettigar\n",
    "### January 31 2021"
   ]
  },
  {
   "cell_type": "markdown",
   "metadata": {},
   "source": [
    "This program prompts the user for hours and rate per hour using input to compute gross pay"
   ]
  },
  {
   "cell_type": "code",
   "execution_count": 16,
   "metadata": {},
   "outputs": [
    {
     "name": "stdout",
     "output_type": "stream",
     "text": [
      "Enter total hours: 45\n",
      "Enter rate per hour: 10.50\n",
      "Gross pay: 498.75\n"
     ]
    }
   ],
   "source": [
    "# get required values from user as input\n",
    "hours = float(input(\"Enter total hours: \"))\n",
    "rate = float(input(\"Enter rate per hour: \"))\n",
    "\n",
    "# calculate gross pay\n",
    "if hours <= 40:\n",
    "    grossPay = hours * rate\n",
    "else: \n",
    "    grossPay = (40 * rate) + ((hours - 40) * (rate * 1.5))\n",
    "    \n",
    "# print out the gross pay to user\n",
    "print(\"Gross pay: \" + str(grossPay))"
   ]
  }
 ],
 "metadata": {
  "kernelspec": {
   "display_name": "Python 3",
   "language": "python",
   "name": "python3"
  },
  "language_info": {
   "codemirror_mode": {
    "name": "ipython",
    "version": 3
   },
   "file_extension": ".py",
   "mimetype": "text/x-python",
   "name": "python",
   "nbconvert_exporter": "python",
   "pygments_lexer": "ipython3",
   "version": "3.7.4"
  }
 },
 "nbformat": 4,
 "nbformat_minor": 2
}
